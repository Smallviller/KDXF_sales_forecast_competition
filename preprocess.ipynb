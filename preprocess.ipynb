{
 "cells": [
  {
   "cell_type": "code",
   "execution_count": 1,
   "source": [
    "import pandas as pd"
   ],
   "outputs": [],
   "metadata": {}
  },
  {
   "cell_type": "code",
   "execution_count": 2,
   "source": [
    "# 合并训练测试\r\n",
    "train = pd.read_csv('./线下商店销量预测_数据集/train.csv')\r\n",
    "test = pd.read_csv('./线下商店销量预测_数据集/test.csv')\r\n",
    "df=pd.concat([train,test]).reset_index(drop=True)\r\n",
    "df=df.sort_values(['shop_id','item_id','week'])"
   ],
   "outputs": [],
   "metadata": {}
  },
  {
   "cell_type": "code",
   "execution_count": 3,
   "source": [
    "# 用来做滑动和之后特征的函数\r\n",
    "def makelag(data,values,shift):\r\n",
    "    lags=[i+shift for i in range(15)]\r\n",
    "    rollings=[i for i in range(2,15)]\r\n",
    "    for lag in lags:\r\n",
    "        data[f'lag_{lag}']=values.shift(lag)\r\n",
    "    for rolling in rollings:\r\n",
    "        data[f's_{shift}_roll_{rolling}_min']=values.shift(shift).rolling(window=rolling).min()\r\n",
    "        data[f's_{shift}_roll_{rolling}_max']=values.shift(shift).rolling(window=rolling).max()\r\n",
    "        data[f's_{shift}_roll_{rolling}_median']=values.shift(shift).rolling(window=rolling).median()\r\n",
    "        data[f's_{shift}_roll_{rolling}_std']=values.shift(shift).rolling(window=rolling).std()\r\n",
    "        data[f's_{shift}_roll_{rolling}_mean']=values.shift(shift).rolling(window=rolling).mean()\r\n",
    "    return data"
   ],
   "outputs": [],
   "metadata": {}
  },
  {
   "cell_type": "code",
   "execution_count": 4,
   "source": [
    "# 对每个item都做滞后和滑动特征\r\n",
    "df=df.groupby(['shop_id','item_id']).apply(lambda x:makelag(x,x['weekly_sales'],1))"
   ],
   "outputs": [],
   "metadata": {}
  },
  {
   "cell_type": "code",
   "execution_count": null,
   "source": [
    "# 价格填充特征，先用前一个值填补，再向后填补，最后没填补到的用那个item的价格众数填补\r\n",
    "df['item_price_fill']=df.groupby(['shop_id','item_id'])['item_price'].apply(lambda x: x.ffill().bfill())\r\n",
    "df['item_price_fill']=df.groupby(['item_id'])['item_price_fill'].apply(lambda x: x.fillna(x.mode()[0]))"
   ],
   "outputs": [],
   "metadata": {}
  },
  {
   "cell_type": "code",
   "execution_count": null,
   "source": [
    "# 对于每个shop,item,item_cat,shop*item_cat,shop*item分别做价格和销量的mean/std encoding，\r\n",
    "for func in ['mean','std']:\r\n",
    "    df[f'shop_sale_{func}']=df.groupby(['shop_id'])['weekly_sales'].transform(func)\r\n",
    "    df[f'category_sale_{func}']=df.groupby(['item_category_id'])['weekly_sales'].transform(func)\r\n",
    "    df[f'item_sale_{func}']=df.groupby(['item_id'])['weekly_sales'].transform(func)\r\n",
    "    df[f'shop_cat_sale_{func}']=df.groupby(['shop_id','item_category_id'])['weekly_sales'].transform(func)\r\n",
    "    df[f'shop_item_sale_{func}']=df.groupby(['shop_id','item_id'])['weekly_sales'].transform(func)\r\n",
    "    df[f'shop_price_{func}']=df.groupby(['shop_id'])['item_price'].transform(func)\r\n",
    "    df[f'category_price_{func}']=df.groupby(['item_category_id'])['item_price'].transform(func)\r\n",
    "    df[f'shop_cat_price_{func}']=df.groupby(['shop_id','item_category_id'])['item_price_fill'].transform(func)\r\n",
    "    df[f'item_price_{func}']=df.groupby(['item_id'])['item_price'].transform(func)\r\n",
    "    df[f'shop_item_price_{func}']=df.groupby(['shop_id','item_id'])['item_price_fill'].transform(func)"
   ],
   "outputs": [],
   "metadata": {}
  },
  {
   "cell_type": "code",
   "execution_count": null,
   "source": [
    "# 价格差异特征，当前价格与shop、item、item_cat、shop_cat、shop_item的价格均值的差值\r\n",
    "df['shop_price_diff']=df['shop_price_mean']-df['item_price_fill']\r\n",
    "df['item_price_diff']=df['item_price_mean']-df['item_price_fill']\r\n",
    "df['cat_price_diff']=df['category_price_mean']-df['item_price_fill']\r\n",
    "df['shop_cat_price_diff']=df['shop_cat_price_mean']-df['item_price_fill']\r\n",
    "df['shop_item_price_diff']=df['shop_item_price_mean']-df['item_price_fill']\r\n",
    "# 当前价格与上周价格的差值，当前价格与上个月价格均值的差值\r\n",
    "df['week_price_diff']=df.groupby(['shop_id','item_id'])['item_price_fill'].apply(lambda x: x-x.shift(1))\r\n",
    "df['month_price_diff']=df.groupby(['shop_id','item_id'])['item_price_fill'].apply(lambda x: x-x.shift(1).rolling(4).mean())"
   ],
   "outputs": [],
   "metadata": {}
  },
  {
   "cell_type": "code",
   "execution_count": null,
   "source": [
    "# 销量的滞后特征，对于每个item、item_cat、shop\r\n",
    "for lag in [i for i in range(1,16)]:\r\n",
    "    df[f'item_lag_{lag}']=df.groupby(['item_id','week'])[f'lag_{lag}'].transform('mean')\r\n",
    "    df[f'cat_lag_{lag}']=df.groupby(['item_category_id','week'])[f'lag_{lag}'].transform('mean')\r\n",
    "    df[f'shop_lag_{lag}']=df.groupby(['shop_id','week'])[f'lag_{lag}'].transform('mean')"
   ],
   "outputs": [],
   "metadata": {}
  },
  {
   "cell_type": "code",
   "execution_count": null,
   "source": [
    "df.to_pickle('data.pkl')"
   ],
   "outputs": [],
   "metadata": {}
  },
  {
   "cell_type": "code",
   "execution_count": null,
   "source": [],
   "outputs": [],
   "metadata": {}
  }
 ],
 "metadata": {
  "orig_nbformat": 4,
  "language_info": {
   "name": "python",
   "version": "3.8.8",
   "mimetype": "text/x-python",
   "codemirror_mode": {
    "name": "ipython",
    "version": 3
   },
   "pygments_lexer": "ipython3",
   "nbconvert_exporter": "python",
   "file_extension": ".py"
  },
  "kernelspec": {
   "name": "python3",
   "display_name": "Python 3.8.8 64-bit ('base': conda)"
  },
  "interpreter": {
   "hash": "7b4b4feff2f24a0f0a34464dbe537a36fda679851528fb8735cb41fa49dffb2d"
  }
 },
 "nbformat": 4,
 "nbformat_minor": 2
}