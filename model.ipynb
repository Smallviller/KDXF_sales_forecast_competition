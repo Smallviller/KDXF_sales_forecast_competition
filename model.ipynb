{
 "cells": [
  {
   "cell_type": "code",
   "execution_count": 1,
   "source": [
    "import pandas as pd\r\n",
    "import numpy as np\r\n",
    "from sklearn.metrics import mean_squared_error\r\n",
    "import lightgbm as lgb"
   ],
   "outputs": [],
   "metadata": {}
  },
  {
   "cell_type": "code",
   "execution_count": 2,
   "source": [
    "# 读取数据\r\n",
    "df=pd.read_pickle('data.pkl')"
   ],
   "outputs": [],
   "metadata": {}
  },
  {
   "cell_type": "code",
   "execution_count": 3,
   "source": [
    "# 三折交叉\r\n",
    "cvs=[32,31,30]\r\n",
    "params = {\r\n",
    "        'objective': 'tweedie',\r\n",
    "        'tweedie_variance_power':1.6,\r\n",
    "        'metric': 'mse',\r\n",
    "        'num_leaves': 2**7-1,\r\n",
    "        'reg_lambda': 50,\r\n",
    "        'colsample_bytree': 0.6,\r\n",
    "        'subsample': 0.6,\r\n",
    "        'subsample_freq': 4,\r\n",
    "        'learning_rate': 0.015,\r\n",
    "        'n_estimators':2000,\r\n",
    "        'seed': 1024,\r\n",
    "        'n_jobs':-1,\r\n",
    "        'silent': True,\r\n",
    "        'verbose': -1,\r\n",
    "    }"
   ],
   "outputs": [],
   "metadata": {}
  },
  {
   "cell_type": "code",
   "execution_count": 4,
   "source": [
    "y_preds=[]\r\n",
    "scores=[]\r\n",
    "for cv in cvs:\r\n",
    "    print('='*10+str(cv)+'='*10)\r\n",
    "    train=df[df['week']<cv]\r\n",
    "    val=df[df['week']==cv]\r\n",
    "    test=df[df['week']==33]\r\n",
    "    X_train=train.drop(columns=['weekly_sales'])\r\n",
    "    y_train=train['weekly_sales']\r\n",
    "    X_test=test.drop(columns=['weekly_sales'])\r\n",
    "    y_test=test['weekly_sales']\r\n",
    "    X_val=val.drop(columns=['weekly_sales'])\r\n",
    "    y_val=val['weekly_sales']\r\n",
    "    model=lgb.LGBMRegressor(**params)\r\n",
    "    model.fit(X_train,y_train,eval_set=[(X_train,y_train),(X_val,y_val)],eval_metric=['mse'],verbose=False,categorical_feature=['shop_id','item_id','item_category_id'],early_stopping_rounds=50)\r\n",
    "    val_pred=model.predict(X_val)\r\n",
    "    mse=mean_squared_error(y_val,val_pred)\r\n",
    "    print(f'MSE: {mse}')\r\n",
    "    scores.append(mse)\r\n",
    "    y_pred=model.predict(X_test)\r\n",
    "    y_preds.append(y_pred)\r\n",
    "print(f'三折交叉的score{scores}')\r\n",
    "print(f'三折交叉平均score{np.mean(scores)}')"
   ],
   "outputs": [
    {
     "output_type": "stream",
     "name": "stdout",
     "text": [
      "==========32==========\n"
     ]
    },
    {
     "output_type": "stream",
     "name": "stderr",
     "text": [
      "D:\\anaconda3\\lib\\site-packages\\lightgbm\\basic.py:1702: UserWarning: Using categorical_feature in Dataset.\n",
      "  _log_warning('Using categorical_feature in Dataset.')\n",
      "D:\\anaconda3\\lib\\site-packages\\lightgbm\\basic.py:1705: UserWarning: categorical_feature in Dataset is overridden.\n",
      "New categorical_feature is ['item_category_id', 'item_id', 'shop_id']\n",
      "  _log_warning('categorical_feature in Dataset is overridden.\\n'\n"
     ]
    }
   ],
   "metadata": {}
  },
  {
   "cell_type": "code",
   "execution_count": null,
   "source": [
    "y_pred=np.zeros_like(y_pred)\r\n",
    "for t in y_preds:\r\n",
    "    y_pred+=t*1/3"
   ],
   "outputs": [],
   "metadata": {}
  },
  {
   "cell_type": "code",
   "execution_count": null,
   "source": [
    "sample_submit = pd.read_csv('./线下商店销量预测_数据集/sample_submit.csv')"
   ],
   "outputs": [],
   "metadata": {}
  },
  {
   "cell_type": "code",
   "execution_count": null,
   "source": [
    "sample_submit['weekly_sales'] = y_pred\r\n",
    "sample_submit['weekly_sales'] = sample_submit['weekly_sales'].apply(lambda x:x if x>0 else 0).values"
   ],
   "outputs": [],
   "metadata": {}
  },
  {
   "cell_type": "code",
   "execution_count": null,
   "source": [
    "sample_submit"
   ],
   "outputs": [
    {
     "output_type": "execute_result",
     "data": {
      "text/plain": [
       "       shop_id  item_id  weekly_sales\n",
       "0            0        0      0.522429\n",
       "1            0        1      0.554448\n",
       "2            0        2      2.275978\n",
       "3            0        3      0.552268\n",
       "4            0        4      1.039115\n",
       "...        ...      ...           ...\n",
       "16731       31      518      0.441938\n",
       "16732       31      519      0.452581\n",
       "16733       31      520      0.479637\n",
       "16734       31      521      0.547014\n",
       "16735       31      522      0.336969\n",
       "\n",
       "[16736 rows x 3 columns]"
      ],
      "text/html": [
       "<div>\n",
       "<style scoped>\n",
       "    .dataframe tbody tr th:only-of-type {\n",
       "        vertical-align: middle;\n",
       "    }\n",
       "\n",
       "    .dataframe tbody tr th {\n",
       "        vertical-align: top;\n",
       "    }\n",
       "\n",
       "    .dataframe thead th {\n",
       "        text-align: right;\n",
       "    }\n",
       "</style>\n",
       "<table border=\"1\" class=\"dataframe\">\n",
       "  <thead>\n",
       "    <tr style=\"text-align: right;\">\n",
       "      <th></th>\n",
       "      <th>shop_id</th>\n",
       "      <th>item_id</th>\n",
       "      <th>weekly_sales</th>\n",
       "    </tr>\n",
       "  </thead>\n",
       "  <tbody>\n",
       "    <tr>\n",
       "      <th>0</th>\n",
       "      <td>0</td>\n",
       "      <td>0</td>\n",
       "      <td>0.522429</td>\n",
       "    </tr>\n",
       "    <tr>\n",
       "      <th>1</th>\n",
       "      <td>0</td>\n",
       "      <td>1</td>\n",
       "      <td>0.554448</td>\n",
       "    </tr>\n",
       "    <tr>\n",
       "      <th>2</th>\n",
       "      <td>0</td>\n",
       "      <td>2</td>\n",
       "      <td>2.275978</td>\n",
       "    </tr>\n",
       "    <tr>\n",
       "      <th>3</th>\n",
       "      <td>0</td>\n",
       "      <td>3</td>\n",
       "      <td>0.552268</td>\n",
       "    </tr>\n",
       "    <tr>\n",
       "      <th>4</th>\n",
       "      <td>0</td>\n",
       "      <td>4</td>\n",
       "      <td>1.039115</td>\n",
       "    </tr>\n",
       "    <tr>\n",
       "      <th>...</th>\n",
       "      <td>...</td>\n",
       "      <td>...</td>\n",
       "      <td>...</td>\n",
       "    </tr>\n",
       "    <tr>\n",
       "      <th>16731</th>\n",
       "      <td>31</td>\n",
       "      <td>518</td>\n",
       "      <td>0.441938</td>\n",
       "    </tr>\n",
       "    <tr>\n",
       "      <th>16732</th>\n",
       "      <td>31</td>\n",
       "      <td>519</td>\n",
       "      <td>0.452581</td>\n",
       "    </tr>\n",
       "    <tr>\n",
       "      <th>16733</th>\n",
       "      <td>31</td>\n",
       "      <td>520</td>\n",
       "      <td>0.479637</td>\n",
       "    </tr>\n",
       "    <tr>\n",
       "      <th>16734</th>\n",
       "      <td>31</td>\n",
       "      <td>521</td>\n",
       "      <td>0.547014</td>\n",
       "    </tr>\n",
       "    <tr>\n",
       "      <th>16735</th>\n",
       "      <td>31</td>\n",
       "      <td>522</td>\n",
       "      <td>0.336969</td>\n",
       "    </tr>\n",
       "  </tbody>\n",
       "</table>\n",
       "<p>16736 rows × 3 columns</p>\n",
       "</div>"
      ]
     },
     "metadata": {},
     "execution_count": 9
    }
   ],
   "metadata": {}
  },
  {
   "cell_type": "code",
   "execution_count": null,
   "source": [
    "sample_submit.to_csv('submit.csv', index=False)"
   ],
   "outputs": [],
   "metadata": {}
  },
  {
   "cell_type": "code",
   "execution_count": null,
   "source": [],
   "outputs": [],
   "metadata": {}
  }
 ],
 "metadata": {
  "orig_nbformat": 4,
  "language_info": {
   "name": "python",
   "version": "3.8.8",
   "mimetype": "text/x-python",
   "codemirror_mode": {
    "name": "ipython",
    "version": 3
   },
   "pygments_lexer": "ipython3",
   "nbconvert_exporter": "python",
   "file_extension": ".py"
  },
  "kernelspec": {
   "name": "python3",
   "display_name": "Python 3.8.8 64-bit ('base': conda)"
  },
  "interpreter": {
   "hash": "7b4b4feff2f24a0f0a34464dbe537a36fda679851528fb8735cb41fa49dffb2d"
  }
 },
 "nbformat": 4,
 "nbformat_minor": 2
}